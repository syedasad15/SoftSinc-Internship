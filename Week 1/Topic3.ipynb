{
 "cells": [
  {
   "cell_type": "code",
   "execution_count": 9,
   "id": "b629ce4a",
   "metadata": {},
   "outputs": [
    {
     "name": "stdout",
     "output_type": "stream",
     "text": [
      "Rows with missing values:\n",
      "    ID     Name   Age              Email         City\n",
      "1   2      Bob   NaN    bob@example.com  Los Angeles\n",
      "2   3  Charlie  22.0                NaN      Chicago\n",
      "3   4      NaN  28.0  david@example.com      Houston\n",
      "4   5      Eva  26.0    eva@example.com          NaN\n",
      "6   7    Grace   NaN                NaN  San Antonio\n",
      "8   9      NaN   NaN                NaN          NaN\n",
      "\n",
      "Unique (non-null) values per column:\n",
      "ID       10\n",
      "Name      8\n",
      "Age       7\n",
      "Email     7\n",
      "City      8\n",
      "dtype: int64\n"
     ]
    }
   ],
   "source": [
    "import pandas as pd\n",
    "\n",
    "df = pd.read_csv(\"Data.csv\")\n",
    "missing_rows = df[df.isnull().any(axis=1)]\n",
    "print(\"Rows with missing values:\\n\", missing_rows)\n",
    "\n",
    "print(\"\\nUnique (non-null) values per column:\")\n",
    "print(df.nunique())\n"
   ]
  },
  {
   "cell_type": "code",
   "execution_count": 10,
   "id": "9a5e33c5",
   "metadata": {},
   "outputs": [
    {
     "name": "stdout",
     "output_type": "stream",
     "text": [
      "Report saved to 'report.txt'\n"
     ]
    }
   ],
   "source": [
    "import pandas as pd\n",
    "from datetime import datetime\n",
    "df = pd.read_csv(\"Data.csv\")\n",
    "summary = df.describe(include='all').transpose()\n",
    "timestamp = datetime.now().strftime(\"%Y-%m-%d %H:%M:%S\")\n",
    "\n",
    "report_txt = f\"Report generated at: {timestamp}\\n\\nSummary Statistics:\\n{summary}\\n\"\n",
    "\n",
    "with open(\"report.txt\", \"w\") as f:\n",
    "    f.write(report_txt)\n",
    "print(\"Report saved to 'report.txt'\")\n"
   ]
  }
 ],
 "metadata": {
  "kernelspec": {
   "display_name": "Python 3",
   "language": "python",
   "name": "python3"
  },
  "language_info": {
   "codemirror_mode": {
    "name": "ipython",
    "version": 3
   },
   "file_extension": ".py",
   "mimetype": "text/x-python",
   "name": "python",
   "nbconvert_exporter": "python",
   "pygments_lexer": "ipython3",
   "version": "3.12.3"
  }
 },
 "nbformat": 4,
 "nbformat_minor": 5
}
