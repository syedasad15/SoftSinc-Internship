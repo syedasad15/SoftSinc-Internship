{
 "cells": [
  {
   "cell_type": "code",
   "execution_count": null,
   "id": "f4b0f544",
   "metadata": {},
   "outputs": [
    {
     "name": "stdout",
     "output_type": "stream",
     "text": [
      "Average Survival Rate by Gender:\n",
      "Sex\n",
      "Female    0.5000\n",
      "Male      0.1293\n",
      "Name: Survived, dtype: float64\n"
     ]
    }
   ],
   "source": [
    "import pandas as pd\n",
    "\n",
    "titanic_url = \"C:\\\\Users\\\\T L S\\\\Desktop\\\\SoftSinc\\\\Week 1\\\\train_and_test2.csv\"\n",
    "df = pd.read_csv(titanic_url)\n",
    "\n",
    "avg_survival_by_gender = df.groupby('Sex')['Survived'].mean()\n",
    "\n",
    "print(\"Average Survival Rate by Gender:\")\n",
    "print(avg_survival_by_gender)\n"
   ]
  },
  {
   "cell_type": "code",
   "execution_count": 8,
   "id": "af3a8bf4",
   "metadata": {},
   "outputs": [
    {
     "name": "stdout",
     "output_type": "stream",
     "text": [
      "Number of females younger than 18: 72\n",
      "    Passengerid   Age     Fare     Sex  Embarked  Survived\n",
      "9            10  14.0  30.0708  Female       0.0         1\n",
      "10           11   4.0  16.7000  Female       2.0         1\n",
      "14           15  14.0   7.8542  Female       2.0         0\n",
      "22           23  15.0   8.0292  Female       1.0         1\n",
      "24           25   8.0  21.0750  Female       2.0         0\n"
     ]
    }
   ],
   "source": [
    "filtered_df = df[(df['Sex'] == 'Female') & (df['Age'] < 18)]\n",
    "print(f\"Number of females younger than 18: {len(filtered_df)}\")\n",
    "print(filtered_df.head())\n"
   ]
  },
  {
   "cell_type": "code",
   "execution_count": null,
   "id": "a289d64f",
   "metadata": {},
   "outputs": [
    {
     "name": "stdout",
     "output_type": "stream",
     "text": [
      "Initial dataset shape: (1309, 6)\n",
      "Shape after dropping missing rows: (1307, 6)\n",
      "Shape after dropping duplicates: (1307, 6)\n"
     ]
    }
   ],
   "source": [
    "\n",
    "print(f\"Initial dataset shape: {df.shape}\")\n",
    "\n",
    "df_no_missing = df.dropna()\n",
    "print(f\"Shape after dropping missing rows: {df_no_missing.shape}\")\n",
    "\n",
    "df_no_duplicates = df_no_missing.drop_duplicates()\n",
    "print(f\"Shape after dropping duplicates: {df_no_duplicates.shape}\")\n"
   ]
  }
 ],
 "metadata": {
  "kernelspec": {
   "display_name": "Python 3",
   "language": "python",
   "name": "python3"
  },
  "language_info": {
   "codemirror_mode": {
    "name": "ipython",
    "version": 3
   },
   "file_extension": ".py",
   "mimetype": "text/x-python",
   "name": "python",
   "nbconvert_exporter": "python",
   "pygments_lexer": "ipython3",
   "version": "3.12.3"
  }
 },
 "nbformat": 4,
 "nbformat_minor": 5
}
