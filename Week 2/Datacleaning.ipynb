{
 "cells": [
  {
   "cell_type": "code",
   "execution_count": 7,
   "id": "9a5c94d9",
   "metadata": {},
   "outputs": [],
   "source": [
    "import pandas as pd\n",
    "import numpy as np"
   ]
  },
  {
   "cell_type": "code",
   "execution_count": 22,
   "id": "99196dce",
   "metadata": {},
   "outputs": [],
   "source": [
    "df=pd.read_csv(\"C:\\\\Users\\\\T L S\\\\Desktop\\\\SoftSinc\\\\Week 2\\\\newdataset.csv\")"
   ]
  },
  {
   "cell_type": "code",
   "execution_count": 23,
   "id": "fac9d452",
   "metadata": {},
   "outputs": [
    {
     "name": "stdout",
     "output_type": "stream",
     "text": [
      "   serial_no  sepal_length  sepal_width  petal_length  petal_width  \\\n",
      "0        NaN           5.1          3.0           1.4          0.0   \n",
      "1        1.0           NaN          3.0           1.4          0.0   \n",
      "2        2.0           4.7          NaN           1.3          0.0   \n",
      "3        3.0           4.6          3.0           NaN          0.0   \n",
      "4        4.0           5.0          3.0           1.4          NaN   \n",
      "\n",
      "       species  \n",
      "0  Iris-setosa  \n",
      "1  Iris-setosa  \n",
      "2  Iris-setosa  \n",
      "3  Iris-setosa  \n",
      "4  Iris-setosa  \n",
      "serial_no       4\n",
      "sepal_length    5\n",
      "sepal_width     4\n",
      "petal_length    4\n",
      "petal_width     4\n",
      "species         2\n",
      "dtype: int64\n",
      "serial_no       float64\n",
      "sepal_length    float64\n",
      "sepal_width     float64\n",
      "petal_length    float64\n",
      "petal_width     float64\n",
      "species          object\n",
      "dtype: object\n"
     ]
    }
   ],
   "source": [
    "\n",
    "print(df.head())\n",
    "print(df.isnull().sum())\n",
    "print(df.dtypes)"
   ]
  },
  {
   "cell_type": "code",
   "execution_count": 27,
   "id": "03f96307",
   "metadata": {},
   "outputs": [],
   "source": [
    "columns = ['serial_no', 'sepal_length', 'sepal_width', 'petal_length', 'petal_width']\n",
    "df[columns] = df[columns].fillna(df[columns].mean())\n"
   ]
  },
  {
   "cell_type": "code",
   "execution_count": 28,
   "id": "9548df55",
   "metadata": {},
   "outputs": [],
   "source": [
    "df['species'] = df['species'].astype('category').cat.codes\n"
   ]
  },
  {
   "cell_type": "code",
   "execution_count": 30,
   "id": "41e147b9",
   "metadata": {},
   "outputs": [
    {
     "name": "stdout",
     "output_type": "stream",
     "text": [
      "   serial_no  sepal_length  sepal_width  petal_length  petal_width  species\n",
      "0  76.171233      5.100000     3.000000      1.400000     0.000000        0\n",
      "1   1.000000      5.868276     3.000000      1.400000     0.000000        0\n",
      "2   2.000000      4.700000     2.636986      1.300000     0.000000        0\n",
      "3   3.000000      4.600000     3.000000      3.818493     0.000000        0\n",
      "4   4.000000      5.000000     3.000000      1.400000     0.883562        0\n",
      "     serial_no  sepal_length  sepal_width  petal_length  petal_width  species\n",
      "145      145.0           6.7          3.0           5.2          2.0        2\n",
      "146      146.0           6.3          2.0           5.0          1.0        2\n",
      "147      147.0           6.5          3.0           5.2          2.0        2\n",
      "148      148.0           6.2          3.0           5.4          2.0        2\n",
      "149      149.0           5.9          3.0           5.1          1.0        2\n"
     ]
    }
   ],
   "source": [
    "print(df.head())\n",
    "print(df.tail())\n"
   ]
  },
  {
   "cell_type": "code",
   "execution_count": 32,
   "id": "edbb8bea",
   "metadata": {},
   "outputs": [
    {
     "name": "stdout",
     "output_type": "stream",
     "text": [
      "serial_no       0\n",
      "sepal_length    0\n",
      "sepal_width     0\n",
      "petal_length    0\n",
      "petal_width     0\n",
      "species         0\n",
      "dtype: int64\n",
      "serial_no       float64\n",
      "sepal_length    float64\n",
      "sepal_width     float64\n",
      "petal_length    float64\n",
      "petal_width     float64\n",
      "species            int8\n",
      "dtype: object\n"
     ]
    }
   ],
   "source": [
    "print(df.isnull().sum())\n",
    "print(df.dtypes)"
   ]
  },
  {
   "cell_type": "code",
   "execution_count": 31,
   "id": "ff59cd27",
   "metadata": {},
   "outputs": [
    {
     "name": "stdout",
     "output_type": "stream",
     "text": [
      "        serial_no  sepal_length  sepal_width  petal_length  petal_width  \\\n",
      "count  150.000000    150.000000   150.000000    150.000000   150.000000   \n",
      "mean    76.171233      5.868276     2.636986      3.818493     0.883562   \n",
      "std     42.222542      0.815759     0.529406      1.727006     0.700051   \n",
      "min      1.000000      4.300000     2.000000      1.000000     0.000000   \n",
      "25%     41.250000      5.125000     2.000000      1.600000     0.000000   \n",
      "50%     76.171233      5.834138     3.000000      4.350000     1.000000   \n",
      "75%    111.750000      6.400000     3.000000      5.100000     1.000000   \n",
      "max    149.000000      7.900000     4.000000      6.900000     2.000000   \n",
      "\n",
      "          species  \n",
      "count  150.000000  \n",
      "mean     0.986667  \n",
      "std      0.843345  \n",
      "min     -1.000000  \n",
      "25%      0.000000  \n",
      "50%      1.000000  \n",
      "75%      2.000000  \n",
      "max      2.000000  \n"
     ]
    }
   ],
   "source": [
    "print(df.describe())"
   ]
  },
  {
   "cell_type": "code",
   "execution_count": null,
   "id": "7167d440",
   "metadata": {},
   "outputs": [],
   "source": []
  },
  {
   "cell_type": "code",
   "execution_count": null,
   "id": "3665acfc",
   "metadata": {},
   "outputs": [],
   "source": [
    "import pandas as pd\n",
    "import numpy as np\n",
    "\n",
    "def clean_data(df):\n",
    "    log = []\n",
    "\n",
    "    original_shape = df.shape\n",
    "    log.append(f\"Original shape: {original_shape}\")\n",
    "\n",
    "    duplicate_count = df.duplicated().sum()\n",
    "    if duplicate_count > 0:\n",
    "        df = df.drop_duplicates()\n",
    "        log.append(f\"Removed {duplicate_count} duplicate rows.\")\n",
    "\n",
    "    for col in df.columns:\n",
    "        missing_count = df[col].isnull().sum()\n",
    "        if missing_count > 0:\n",
    "            if pd.api.types.is_numeric_dtype(df[col]):\n",
    "                mean_val = df[col].mean()\n",
    "                df[col] = df[col].fillna(mean_val)\n",
    "                log.append(f\"Filled {missing_count} NaNs in numeric column '{col}' with mean: {mean_val:.2f}\")\n",
    "            else:\n",
    "                mode_val = df[col].mode()[0] if not df[col].mode().empty else \"UNKNOWN\"\n",
    "                df[col] = df[col].fillna(mode_val)\n",
    "                log.append(f\"Filled {missing_count} NaNs in non-numeric column '{col}' with mode: {mode_val}\")\n",
    "\n",
    "    cleaned_shape = df.shape\n",
    "    log.append(f\"Final shape after cleaning: {cleaned_shape}\")\n",
    "\n",
    "    return df, log\n"
   ]
  }
 ],
 "metadata": {
  "kernelspec": {
   "display_name": "Python 3",
   "language": "python",
   "name": "python3"
  },
  "language_info": {
   "codemirror_mode": {
    "name": "ipython",
    "version": 3
   },
   "file_extension": ".py",
   "mimetype": "text/x-python",
   "name": "python",
   "nbconvert_exporter": "python",
   "pygments_lexer": "ipython3",
   "version": "3.12.3"
  }
 },
 "nbformat": 4,
 "nbformat_minor": 5
}
