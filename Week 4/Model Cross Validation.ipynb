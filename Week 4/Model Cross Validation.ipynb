{
 "cells": [
  {
   "cell_type": "code",
   "execution_count": 1,
   "id": "caccd6be",
   "metadata": {},
   "outputs": [
    {
     "name": "stdout",
     "output_type": "stream",
     "text": [
      "Best Parameters: {'clf__max_depth': 3, 'clf__n_estimators': 100}\n",
      "\n",
      "Classification Report:\n",
      "               precision    recall  f1-score   support\n",
      "\n",
      "        Died       0.81      0.92      0.86       189\n",
      "    Survived       0.67      0.42      0.52        73\n",
      "\n",
      "    accuracy                           0.78       262\n",
      "   macro avg       0.74      0.67      0.69       262\n",
      "weighted avg       0.77      0.78      0.77       262\n",
      "\n",
      "\n",
      "✅ Model saved to 'best_titanic_model.pkl'\n"
     ]
    }
   ],
   "source": [
    "import pandas as pd\n",
    "from sklearn.model_selection import train_test_split, GridSearchCV, KFold\n",
    "from sklearn.preprocessing import LabelEncoder, StandardScaler\n",
    "from sklearn.ensemble import RandomForestClassifier\n",
    "from sklearn.metrics import classification_report\n",
    "from sklearn.pipeline import Pipeline\n",
    "import joblib\n",
    "\n",
    "# Load dataset\n",
    "df = pd.read_csv(\"Titanic.csv\")\n",
    "\n",
    "# Select and clean columns\n",
    "df = df[['Survived', 'Pclass', 'Sex', 'Age', 'Fare']].dropna()\n",
    "\n",
    "# Encode categorical variable\n",
    "df['Sex'] = LabelEncoder().fit_transform(df['Sex'])  # male=1, female=0\n",
    "\n",
    "# Features and target\n",
    "X = df[['Pclass', 'Sex', 'Age', 'Fare']]\n",
    "y = df['Survived']\n",
    "\n",
    "# Train-test split\n",
    "X_train, X_test, y_train, y_test = train_test_split(X, y, test_size=0.2, random_state=42)\n",
    "\n",
    "# Build pipeline (scaling + classifier)\n",
    "pipe = Pipeline([\n",
    "    ('scaler', StandardScaler()),\n",
    "    ('clf', RandomForestClassifier(random_state=42))\n",
    "])\n",
    "\n",
    "# Grid search parameters\n",
    "param_grid = {\n",
    "    'clf__n_estimators': [50, 100],\n",
    "    'clf__max_depth': [3, 5, None]\n",
    "}\n",
    "\n",
    "# Use KFold cross-validation\n",
    "cv = KFold(n_splits=5, shuffle=True, random_state=42)\n",
    "\n",
    "# GridSearchCV\n",
    "grid = GridSearchCV(pipe, param_grid, cv=cv, scoring='accuracy')\n",
    "grid.fit(X_train, y_train)\n",
    "\n",
    "# Predict on test set\n",
    "y_pred = grid.predict(X_test)\n",
    "\n",
    "# Evaluation report\n",
    "print(\"Best Parameters:\", grid.best_params_)\n",
    "print(\"\\nClassification Report:\\n\", classification_report(y_test, y_pred))\n",
    "\n",
    "# Save the best model\n",
    "joblib.dump(grid.best_estimator_, 'best_titanic_model.pkl')\n",
    "print(\"\\n✅ Model saved to 'best_titanic_model.pkl'\")\n"
   ]
  }
 ],
 "metadata": {
  "kernelspec": {
   "display_name": "Python 3",
   "language": "python",
   "name": "python3"
  },
  "language_info": {
   "codemirror_mode": {
    "name": "ipython",
    "version": 3
   },
   "file_extension": ".py",
   "mimetype": "text/x-python",
   "name": "python",
   "nbconvert_exporter": "python",
   "pygments_lexer": "ipython3",
   "version": "3.12.3"
  }
 },
 "nbformat": 4,
 "nbformat_minor": 5
}
